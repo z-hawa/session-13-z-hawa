{
  "nbformat": 4,
  "nbformat_minor": 0,
  "metadata": {
    "colab": {
      "name": "Untitled4.ipynb",
      "provenance": [],
      "collapsed_sections": []
    },
    "kernelspec": {
      "name": "python3",
      "display_name": "Python 3"
    },
    "language_info": {
      "name": "python"
    }
  },
  "cells": [
    {
      "cell_type": "code",
      "metadata": {
        "colab": {
          "base_uri": "https://localhost:8080/"
        },
        "id": "WQBXvRx-roXQ",
        "outputId": "b9fc9f18-d432-44b0-b451-ea334692d6fd"
      },
      "source": [
        "from collections import namedtuple\n",
        "\n",
        "\n",
        "nycnamedtuple=namedtuple('NYCParkingTickets',['SummonsNumber', 'PlateID', 'RegistrationState', 'PlateType', 'IssueDate', 'ViolationCode', 'VehicleBodyType', 'VehicleMake', 'ViolationDescription'])\n",
        "\n",
        "\n",
        "def add_columns_to_namedtuple(column):\n",
        "    column=column.split(\",\")\n",
        "    return nycnamedtuple(*column)\n",
        "\n",
        "\n",
        "\n",
        "\n",
        "\n",
        "def return_namedtuple():\n",
        "    with open(\"nyc_parking_tickets_extract-1.csv\",errors='ignore',encoding='utf-8') as nycparkingtickets:\n",
        "        next(nycparkingtickets)\n",
        "        for i in nycparkingtickets:\n",
        "            yield add_columns_to_namedtuple(i)\n",
        "\n",
        "\n",
        "        \n",
        "print(next(return_namedtuple()))\n",
        "global dict_of_carmaker_violations\n",
        "dict_of_carmaker_violations={}\n",
        "\n",
        "\n",
        "def add_to_dict(column):\n",
        "    column=column.split(\",\")\n",
        "    num=dict_of_carmaker_violations.get(column[-2],0)\n",
        "    num+=1\n",
        "    dict_of_carmaker_violations.update({column[-2]:num})\n",
        "\n",
        "def return_dict_of_violations():\n",
        "    with open(\"nyc_parking_tickets_extract-1.csv\",errors='ignore',encoding='utf-8') as nycparkingtickets:\n",
        "        next(nycparkingtickets)\n",
        "        for i in nycparkingtickets:\n",
        "            add_to_dict(i)\n",
        "        return dict_of_carmaker_violations\n",
        "\n",
        "print(return_dict_of_violations())"
      ],
      "execution_count": 6,
      "outputs": [
        {
          "output_type": "stream",
          "text": [
            "NYCParkingTickets(SummonsNumber='4006478550', PlateID='VAD7274', RegistrationState='VA', PlateType='PAS', IssueDate='10/5/2016', ViolationCode='5', VehicleBodyType='4D', VehicleMake='BMW', ViolationDescription='BUS LANE VIOLATION\\n')\n",
            "{'BMW': 34, 'CHEVR': 76, 'DODGE': 45, 'FORD': 104, 'FRUEH': 44, 'HONDA': 106, 'LINCO': 12, 'TOYOT': 112, 'CADIL': 9, 'CHRYS': 12, 'FIR': 1, 'GMC': 35, 'HYUND': 35, 'JAGUA': 3, 'JEEP': 22, 'LEXUS': 26, 'ME/BE': 38, 'MERCU': 4, 'MITSU': 11, 'NISSA': 70, 'HIN': 6, 'NS/OT': 18, 'WORKH': 2, 'ACURA': 12, 'AUDI': 12, 'INTER': 25, 'ISUZU': 10, 'KENWO': 5, 'KIA': 8, 'OLDSM': 1, 'SUBAR': 18, 'VOLVO': 12, 'SATUR': 2, 'SMART': 3, 'INFIN': 13, 'PETER': 1, '': 5, 'CITRO': 1, 'ROVER': 5, 'BUICK': 5, 'GEO': 1, 'MAZDA': 5, 'PORSC': 3, 'VOLKS': 8, 'YAMAH': 1, 'BSA': 1, 'MINI': 1, 'PONTI': 1, 'SPRI': 1, 'PLYMO': 1, 'SCION': 2, 'UPS': 1, 'FIAT': 1, 'UD': 1, 'UTILI': 1, 'GMCQ': 1, 'SAAB': 2, 'HINO': 2, 'STAR': 1, 'AM/T': 1, 'MI/F': 1}\n"
          ],
          "name": "stdout"
        }
      ]
    }
  ]
}